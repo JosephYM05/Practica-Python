{
 "cells": [
  {
   "attachments": {},
   "cell_type": "markdown",
   "metadata": {},
   "source": [
    "# `**Variables**`\n",
    "Python es un lenguaje de tipado dinámico, y no necesita que se declaren el tipo de unaa variable. El nombre de cada variable debe cumplir.\n",
    "\n",
    "- -El nombre de la variable debe empezar con una letra (a-z o A-Z) o un guión bajo (_).\n",
    "- -El resto del nombre de la variable puede consistir en letras, números (0-9) y guiones bajos (_).\n",
    "- -Python distingue entre mayúsculas y minúsculas, por lo que \"miVariable\" y \"mivariable\" son nombres de variables diferentes.\n",
    "- Los nombres de variables no pueden ser iguales a palabras reservadas en Python, como \"if\", \"else\" o \"while\", ya que estas palabras tienen un significado especial en el lenguaje y se utilizan para funciones específicas.\n",
    "\n",
    "> `Es importante seguir estas reglas al nombrar variables en Python para evitar errores de sintaxis y mantener el código legible y fácil de entender.`"
   ]
  },
  {
   "cell_type": "code",
   "execution_count": 7,
   "metadata": {},
   "outputs": [],
   "source": [
    "x=30\n",
    "nombre='Hola mundo'"
   ]
  },
  {
   "cell_type": "code",
   "execution_count": 13,
   "metadata": {},
   "outputs": [
    {
     "data": {
      "text/plain": [
       "30"
      ]
     },
     "execution_count": 13,
     "metadata": {},
     "output_type": "execute_result"
    }
   ],
   "source": [
    "x\n"
   ]
  },
  {
   "cell_type": "code",
   "execution_count": 9,
   "metadata": {},
   "outputs": [
    {
     "data": {
      "text/plain": [
       "'Hola mundo'"
      ]
     },
     "execution_count": 9,
     "metadata": {},
     "output_type": "execute_result"
    }
   ],
   "source": [
    "nombre"
   ]
  },
  {
   "attachments": {},
   "cell_type": "markdown",
   "metadata": {},
   "source": [
    "En python los tipos primitivos son: números, cadenas de caracteres(string), booleanos,tuplas,listas, y diccionarios.\n",
    "> `Son funciones de clase, esto quiere decir que cada tipo de variable incluye unas funciones asociadas a ella desde su definicion`\n",
    ">"
   ]
  }
 ],
 "metadata": {
  "kernelspec": {
   "display_name": "base",
   "language": "python",
   "name": "python3"
  },
  "language_info": {
   "codemirror_mode": {
    "name": "ipython",
    "version": 3
   },
   "file_extension": ".py",
   "mimetype": "text/x-python",
   "name": "python",
   "nbconvert_exporter": "python",
   "pygments_lexer": "ipython3",
   "version": "3.9.13"
  },
  "orig_nbformat": 4
 },
 "nbformat": 4,
 "nbformat_minor": 2
}
