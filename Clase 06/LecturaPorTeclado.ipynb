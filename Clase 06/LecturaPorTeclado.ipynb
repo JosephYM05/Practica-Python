{
 "cells": [
  {
   "cell_type": "markdown",
   "metadata": {},
   "source": [
    "# __2.8 Lectura por Teclado__"
   ]
  },
  {
   "cell_type": "markdown",
   "metadata": {},
   "source": [
    "La función input() permite obtener texto escrito por teclado. Al llegar a la función, el programa se detiene esperando que se escriba algo y se pulse la tecla Intro, como muestra el siguiente ejemplo:"
   ]
  },
  {
   "cell_type": "code",
   "execution_count": 3,
   "metadata": {},
   "outputs": [
    {
     "name": "stdout",
     "output_type": "stream",
     "text": [
      "¿Cómo se llama?\n",
      "Pepe\n",
      "Me alegro de conocerle, Pepe\n"
     ]
    }
   ],
   "source": [
    "print(\"¿Cómo se llama?\")\n",
    "nombre = input()\n",
    "print(f\"Me alegro de conocerle, {nombre}\")"
   ]
  },
  {
   "cell_type": "markdown",
   "metadata": {},
   "source": [
    "__La letra \"f\" en el print se utiliza para crear una f-string, también conocida como cadena formateada en Python. Una f-string es una forma conveniente y legible de incluir variables o expresiones dentro de una cadena. \"f-string\" se utiliza para incluir la variable \"nombre\" dentro de la cadena. Al colocar la letra \"f\" antes de la cadena y encerrar la variable entre llaves {}, Python interpreta automáticamente la variable y la reemplaza con su valor en la cadena final.__"
   ]
  },
  {
   "cell_type": "markdown",
   "metadata": {},
   "source": [
    "Si se prefiere que el usuario escriba su respuesta a continuación de la pregunta, se podría utilizar el argumento opcional end en la función print(), que indica el carácter o caracteres a utilizar en vez del salto de línea. Para separar la respuesta de la pregunta se ha añadido un espacio al final de la pregunta."
   ]
  },
  {
   "cell_type": "code",
   "execution_count": 2,
   "metadata": {},
   "outputs": [
    {
     "name": "stdout",
     "output_type": "stream",
     "text": [
      "¿Cómo se llama? Andres\n",
      "Me alegro de conocerle, Andres\n"
     ]
    }
   ],
   "source": [
    "print(\"¿Cómo se llama? \", end=\"\")\n",
    "nombre = input();\n",
    "print(f\"Me alegro de conocerle, {nombre}\")"
   ]
  },
  {
   "cell_type": "code",
   "execution_count": null,
   "metadata": {},
   "outputs": [],
   "source": []
  }
 ],
 "metadata": {
  "kernelspec": {
   "display_name": "Python 3 (ipykernel)",
   "language": "python",
   "name": "python3"
  },
  "language_info": {
   "codemirror_mode": {
    "name": "ipython",
    "version": 3
   },
   "file_extension": ".py",
   "mimetype": "text/x-python",
   "name": "python",
   "nbconvert_exporter": "python",
   "pygments_lexer": "ipython3",
   "version": "3.9.13"
  }
 },
 "nbformat": 4,
 "nbformat_minor": 2
}
