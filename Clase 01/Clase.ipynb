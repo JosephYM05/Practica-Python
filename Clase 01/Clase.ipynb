{
 "cells": [
  {
   "attachments": {},
   "cell_type": "markdown",
   "metadata": {},
   "source": [
    "# `**Variables**`\n",
    "Python es un lenguaje de tipado dinámico, y no necesita que se declaren el tipo de unaa variable. El nombre de cada variable debe cumplir.\n",
    "\n",
    "- -El nombre de la variable debe empezar con una letra (a-z o A-Z) o un guión bajo (_).\n",
    "- -El resto del nombre de la variable puede consistir en letras, números (0-9) y guiones bajos (_).\n",
    "- -Python distingue entre mayúsculas y minúsculas, por lo que \"miVariable\" y \"mivariable\" son nombres de variables diferentes.\n",
    "- Los nombres de variables no pueden ser iguales a palabras reservadas en Python, como \"if\", \"else\" o \"while\", ya que estas palabras tienen un significado especial en el lenguaje y se utilizan para funciones específicas.\n",
    "\n",
    "> `Es importante seguir estas reglas al nombrar variables en Python para evitar errores de sintaxis y mantener el código legible y fácil de entender.`"
   ]
  },
  {
   "cell_type": "code",
   "execution_count": 1,
   "metadata": {},
   "outputs": [],
   "source": [
    "x=30\n",
    "nombre='Andre Ivan'"
   ]
  },
  {
   "cell_type": "code",
   "execution_count": 2,
   "metadata": {},
   "outputs": [
    {
     "data": {
      "text/plain": [
       "30"
      ]
     },
     "execution_count": 2,
     "metadata": {},
     "output_type": "execute_result"
    }
   ],
   "source": [
    "x\n"
   ]
  },
  {
   "cell_type": "code",
   "execution_count": 7,
   "metadata": {},
   "outputs": [
    {
     "data": {
      "text/plain": [
       "'Andre Ivan'"
      ]
     },
     "execution_count": 7,
     "metadata": {},
     "output_type": "execute_result"
    }
   ],
   "source": [
    "nombre"
   ]
  },
  {
   "attachments": {},
   "cell_type": "markdown",
   "metadata": {},
   "source": [
    "`En python los tipos primitivos son: números, cadenas de caracteres(string), booleanos,tuplas,listas, y diccionarios.`"
   ]
  },
  {
   "attachments": {},
   "cell_type": "markdown",
   "metadata": {},
   "source": [
    "# `MÉTODOS` \n",
    "\n",
    "> Son funciones de clase, esto quiere decir que cada tipo de variable incluuye unas funciones asociadas a ella desde su definicion"
   ]
  },
  {
   "cell_type": "code",
   "execution_count": 4,
   "metadata": {},
   "outputs": [
    {
     "data": {
      "text/plain": [
       "40"
      ]
     },
     "execution_count": 4,
     "metadata": {},
     "output_type": "execute_result"
    }
   ],
   "source": [
    "x.__add__(10)"
   ]
  },
  {
   "attachments": {},
   "cell_type": "markdown",
   "metadata": {},
   "source": [
    "> El método **`__add__()`**\n",
    "Se utiliza en Python para sobrecargar el operador de suma (+) en una clase personalizada. Cuando e llama al operador de suma (+) en una instancia de la clase, Python busca el método **`__add__()`**\n",
    "en la definición de la clase para determinar cómo manejar la operación."
   ]
  },
  {
   "cell_type": "code",
   "execution_count": 5,
   "metadata": {},
   "outputs": [
    {
     "name": "stdout",
     "output_type": "stream",
     "text": [
      "15\n"
     ]
    }
   ],
   "source": [
    "class MiClase:\n",
    "    def __init__(self, x):\n",
    "        self.x = x\n",
    "\n",
    "    def __add__(self, y):\n",
    "        return self.x + y\n",
    "\n",
    "x = MiClase(5)\n",
    "resultado = x.__add__(10)\n",
    "print(resultado)  # Output: 15"
   ]
  },
  {
   "attachments": {},
   "cell_type": "markdown",
   "metadata": {},
   "source": [
    "> En este ejemplo, MiClase:\n",
    "\n",
    " es una clase personalizada con el método `__add__()` sobrecargado. Cuando se llama a `x.__add__(10)` , el método `__add__()`\n",
    " de MiClase se ejecuta y devuelve la suma de `self.x` y `y`, que es 15."
   ]
  },
  {
   "cell_type": "code",
   "execution_count": 6,
   "metadata": {},
   "outputs": [
    {
     "name": "stdout",
     "output_type": "stream",
     "text": [
      "5\n"
     ]
    }
   ],
   "source": [
    "class MiClase:\n",
    "    def __init__(self, x):\n",
    "        self.x = x\n",
    "\n",
    "    def mi_metodo(self):\n",
    "        print(self.x)\n",
    "\n",
    "objeto = MiClase(5)\n",
    "objeto.mi_metodo()  # Output: 5"
   ]
  },
  {
   "attachments": {},
   "cell_type": "markdown",
   "metadata": {},
   "source": [
    "* En Python, **`def`** se utiliza para definir una función, mientras que **`self`** se utiliza como una convención para referirse al objeto actual de una clase.\n",
    "* Cuando se define una función dentro de una clase en Python, el primer parámetro de la función debe ser **`self`**. Este parámetro hace referencia al objeto actual de la clase y se utiliza para acceder a los atributos y métodos de la instancia de la clase.\n"
   ]
  },
  {
   "cell_type": "markdown",
   "metadata": {},
   "source": [
    ">La función __init__() es un método especial que se llama cuando se crea una instancia de la clase y el parámetro self hace referencia a la instancia creada. El parámetro x es un argumento que se pasa al constructor de la clase.\n",
    ">El método mi_metodo() es una función definida en la clase MiClase que se puede llamar en una instancia de la clase. El parámetro self hace referencia a la instancia de la clase en la que se llama al método. En este caso, el método mi_metodo() simplemente imprime el valor del atributo x del objeto self.\n",
    ">En resumen, self es una convención en Python para referirse al objeto actual de una clase, mientras que def se utiliza para definir una función, incluyendo los métodos de una clase."
   ]
  }
 ],
 "metadata": {
  "kernelspec": {
   "display_name": "base",
   "language": "python",
   "name": "python3"
  },
  "language_info": {
   "codemirror_mode": {
    "name": "ipython",
    "version": 3
   },
   "file_extension": ".py",
   "mimetype": "text/x-python",
   "name": "python",
   "nbconvert_exporter": "python",
   "pygments_lexer": "ipython3",
   "version": "3.9.13"
  },
  "orig_nbformat": 4
 },
 "nbformat": 4,
 "nbformat_minor": 2
}
