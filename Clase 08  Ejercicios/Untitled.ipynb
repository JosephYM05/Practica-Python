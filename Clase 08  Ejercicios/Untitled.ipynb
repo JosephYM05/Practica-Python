{
 "cells": [
  {
   "cell_type": "code",
   "execution_count": 1,
   "id": "db89703f",
   "metadata": {},
   "outputs": [
    {
     "name": "stderr",
     "output_type": "stream",
     "text": [
      "C:\\Users\\FORYY\\anaconda3\\lib\\site-packages\\IPython\\html.py:12: ShimWarning: The `IPython.html` package has been deprecated since IPython 4.0. You should import from `notebook` instead. `IPython.html.widgets` has moved to `ipywidgets`.\n",
      "  warn(\"The `IPython.html` package has been deprecated since IPython 4.0. \"\n"
     ]
    },
    {
     "data": {
      "text/plain": [
       "{'load_extensions': {'nbextensions_configurator/config_menu/main': True,\n",
       "  'contrib_nbextensions_help_item/main': True,\n",
       "  'collapsible_headings/main': True,\n",
       "  'zenmode/main': True,\n",
       "  'hinterland/hinterland': True,\n",
       "  'varInspector/main': True,\n",
       "  'init_cell/main': True,\n",
       "  'python-markdown/main': True,\n",
       "  'toggle_all_line_numbers/main': True,\n",
       "  'gist_it/main': False},\n",
       " 'ruler_column': [80]}"
      ]
     },
     "execution_count": 1,
     "metadata": {},
     "output_type": "execute_result"
    }
   ],
   "source": [
    "from IPython.html.services.config import ConfigManager\n",
    "ip = get_ipython()\n",
    "cm = ConfigManager(parent=ip)\n",
    "cm.update('notebook', {\"ruler_column\": [80]})"
   ]
  },
  {
   "cell_type": "code",
   "execution_count": 2,
   "id": "a4bb5568",
   "metadata": {},
   "outputs": [
    {
     "data": {
      "text/plain": [
       "{'load_extensions': {'nbextensions_configurator/config_menu/main': True,\n",
       "  'contrib_nbextensions_help_item/main': True,\n",
       "  'collapsible_headings/main': True,\n",
       "  'zenmode/main': True,\n",
       "  'hinterland/hinterland': True,\n",
       "  'varInspector/main': True,\n",
       "  'init_cell/main': True,\n",
       "  'python-markdown/main': True,\n",
       "  'toggle_all_line_numbers/main': True,\n",
       "  'gist_it/main': False},\n",
       " 'ruler_column': [10, 20, 30, 40, 50, 60, 70, 80]}"
      ]
     },
     "execution_count": 2,
     "metadata": {},
     "output_type": "execute_result"
    }
   ],
   "source": [
    "cm.update('notebook', {\"ruler_column\": [10, 20, 30, 40, 50, 60, 70, 80]})\n"
   ]
  },
  {
   "cell_type": "code",
   "execution_count": 3,
   "id": "3e8e23ff",
   "metadata": {},
   "outputs": [
    {
     "data": {
      "text/plain": [
       "{'load_extensions': {'nbextensions_configurator/config_menu/main': True,\n",
       "  'contrib_nbextensions_help_item/main': True,\n",
       "  'collapsible_headings/main': True,\n",
       "  'zenmode/main': True,\n",
       "  'hinterland/hinterland': True,\n",
       "  'varInspector/main': True,\n",
       "  'init_cell/main': True,\n",
       "  'python-markdown/main': True,\n",
       "  'toggle_all_line_numbers/main': True,\n",
       "  'gist_it/main': False},\n",
       " 'ruler_column': [10, 20, 30, 40, 50, 60, 70, 80],\n",
       " 'color': ['#000000',\n",
       "  '#111111',\n",
       "  '#222222',\n",
       "  '#333333',\n",
       "  '#444444',\n",
       "  '#555555',\n",
       "  '#666666',\n",
       "  '#777777',\n",
       "  '#888888',\n",
       "  '#999999']}"
      ]
     },
     "execution_count": 3,
     "metadata": {},
     "output_type": "execute_result"
    }
   ],
   "source": [
    "cm.update('notebook', {\"color\": [\"#000000\", \"#111111\", \"#222222\", \"#333333\", \"#444444\",\n",
    "                                 \"#555555\", \"#666666\", \"#777777\", \"#888888\", \"#999999\"]})"
   ]
  },
  {
   "cell_type": "code",
   "execution_count": 4,
   "id": "eaabe670",
   "metadata": {},
   "outputs": [
    {
     "data": {
      "text/plain": [
       "{'load_extensions': {'nbextensions_configurator/config_menu/main': True,\n",
       "  'contrib_nbextensions_help_item/main': True,\n",
       "  'collapsible_headings/main': True,\n",
       "  'zenmode/main': True,\n",
       "  'hinterland/hinterland': True,\n",
       "  'varInspector/main': True,\n",
       "  'init_cell/main': True,\n",
       "  'python-markdown/main': True,\n",
       "  'toggle_all_line_numbers/main': True,\n",
       "  'gist_it/main': False},\n",
       " 'ruler_column': [10, 20, 30, 40, 50, 60, 70, 80],\n",
       " 'color': ['#FF0000', '#00FF00', '#0000FF'],\n",
       " 'style': ['dashed', 'dotted']}"
      ]
     },
     "execution_count": 4,
     "metadata": {},
     "output_type": "execute_result"
    }
   ],
   "source": [
    "cm.update('notebook', {\"ruler_column\": [10, 20, 30, 40, 50, 60, 70, 80]})\n",
    "cm.update('notebook', {\"color\": [\"#FF0000\", \"#00FF00\", \"#0000FF\"]})\n",
    "cm.update('notebook', {\"style\": [\"dashed\", \"dotted\"]})"
   ]
  }
 ],
 "metadata": {
  "kernelspec": {
   "display_name": "Python 3 (ipykernel)",
   "language": "python",
   "name": "python3"
  },
  "language_info": {
   "codemirror_mode": {
    "name": "ipython",
    "version": 3
   },
   "file_extension": ".py",
   "mimetype": "text/x-python",
   "name": "python",
   "nbconvert_exporter": "python",
   "pygments_lexer": "ipython3",
   "version": "3.9.13"
  },
  "varInspector": {
   "cols": {
    "lenName": 16,
    "lenType": 16,
    "lenVar": 40
   },
   "kernels_config": {
    "python": {
     "delete_cmd_postfix": "",
     "delete_cmd_prefix": "del ",
     "library": "var_list.py",
     "varRefreshCmd": "print(var_dic_list())"
    },
    "r": {
     "delete_cmd_postfix": ") ",
     "delete_cmd_prefix": "rm(",
     "library": "var_list.r",
     "varRefreshCmd": "cat(var_dic_list()) "
    }
   },
   "types_to_exclude": [
    "module",
    "function",
    "builtin_function_or_method",
    "instance",
    "_Feature"
   ],
   "window_display": false
  }
 },
 "nbformat": 4,
 "nbformat_minor": 5
}
